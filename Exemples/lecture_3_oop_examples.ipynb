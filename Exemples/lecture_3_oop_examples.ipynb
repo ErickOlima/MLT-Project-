{
 "cells": [
  {
   "cell_type": "code",
   "execution_count": 1,
   "metadata": {
    "colab": {
     "base_uri": "https://localhost:8080/"
    },
    "executionInfo": {
     "elapsed": 17,
     "status": "ok",
     "timestamp": 1756231447075,
     "user": {
      "displayName": "Thiago Dias dos Santos",
      "userId": "10237835648623158324"
     },
     "user_tz": 180
    },
    "id": "2alH9yAABcV_",
    "outputId": "7b7420d9-cc1e-440d-b5de-9f84c3d67bb2"
   },
   "outputs": [
    {
     "name": "stdout",
     "output_type": "stream",
     "text": [
      "Buddy says Woof!\n",
      "Lucy says Woof!\n",
      "Lucy2 says Woof!\n"
     ]
    }
   ],
   "source": [
    "# https://en.wikipedia.org/wiki/Inheritance_(object-oriented_programming)\n",
    "# a class defines the shared aspects of objects created from the class.\n",
    "# object is an entity that has state, behavior, and identity.\n",
    "class Dog:\n",
    "  # class constructor\n",
    "  # Use the __init__() method to assign values to object properties, or other operations that are necessary to do when the object is being created\n",
    "  def __init__(self, name, age):\n",
    "    # The self parameter is a reference to the current instance of the class, and is used to access variables that belong to the class.\n",
    "    # name and age are atributes of class Dog\n",
    "    self.name = name\n",
    "    self.age = age\n",
    "\n",
    "  # definition of the methods\n",
    "  def bark(self):\n",
    "    return f\"{self.name} says Woof!\"\n",
    "\n",
    "  def get_name(self):\n",
    "    return self.name\n",
    "\n",
    "  def get_age(self):\n",
    "    return self.age\n",
    "\n",
    "  def set_name(self,name):\n",
    "    self.name = name\n",
    "\n",
    "# Create objects (instances) of the Dog class\n",
    "dog1 = Dog(\"Buddy\", 3)\n",
    "dog2 = Dog(\"Lucy\", 5)\n",
    "\n",
    "# Access attributes and call methods\n",
    "#print(dog1.get_name() + \" is \" + str(dog1.get_age()) + \" years old.\")\n",
    "#print(dog1.name + \" is \" + str(dog1.age) + \" years old.\")\n",
    "print(dog1.bark())\n",
    "print(dog2.bark())\n",
    "#print(dog2.get_name() + \" is \" + str(dog2.get_age()) + \" years old.\")\n",
    "#print(dog2.bark())\n",
    "\n",
    "dog2.set_name(\"Lucy2\")\n",
    "print(dog2.bark())\n",
    "#print(dog2.get_name() + \" is \" + str(dog2.get_age()) + \" years old.\")"
   ]
  },
  {
   "cell_type": "code",
   "execution_count": null,
   "metadata": {
    "colab": {
     "base_uri": "https://localhost:8080/"
    },
    "executionInfo": {
     "elapsed": 15,
     "status": "ok",
     "timestamp": 1755905544583,
     "user": {
      "displayName": "Thiago Dias dos Santos",
      "userId": "10237835648623158324"
     },
     "user_tz": 180
    },
    "id": "5r1EFoH4CoKm",
    "outputId": "b54fd27a-c945-4965-bcad-eb8b74c9f818"
   },
   "outputs": [
    {
     "name": "stdout",
     "output_type": "stream",
     "text": [
      "Buddy says Woof!\n",
      "Dog: Buddy, Breed: Golden Retriever\n",
      "Whiskers says Meow!\n",
      "Cat: Whiskers, Color: Tabby\n",
      "Lucy says Woof!\n",
      "Dog: Lucy, Breed: Labrador\n",
      "Shadow says Meow!\n",
      "Cat: Shadow, Color: Black\n",
      "Max fetches the ball.\n",
      "Mittens scratches the post.\n",
      "Animal: Nemo\n"
     ]
    }
   ],
   "source": [
    "class Animal:\n",
    "    def __init__(self, name):\n",
    "        self.name = name\n",
    "\n",
    "    def speak(self):\n",
    "        raise NotImplementedError(\"Subclass must implement abstract method\")\n",
    "\n",
    "    #When you use functions like print() or str() on an object,\n",
    "    #Python calls its __str__ method to get a string to display\n",
    "    def __str__(self):\n",
    "        return \"Animal: \" + self.name\n",
    "\n",
    "# class derived from Animal (subclass)\n",
    "class Dog(Animal):\n",
    "    def __init__(self, name, breed):\n",
    "        # Python also has a super() function that will make the child class inherit all the methods and properties from its parent:\n",
    "        # Its primary purpose is to provide a way to access methods and properties of a parent or superclass from within a child or subclass\n",
    "        super().__init__(name)\n",
    "        self.breed = breed\n",
    "\n",
    "    def speak(self):\n",
    "        return \"Woof!\"\n",
    "\n",
    "    def fetch(self):\n",
    "        return self.name + \" fetches the ball.\"\n",
    "\n",
    "    def __str__(self):\n",
    "        return \"Dog: \" + self.name + \", Breed: \" + self.breed\n",
    "\n",
    "# class derived from Animal (subclass)\n",
    "class Cat(Animal):\n",
    "    def __init__(self, name, color):\n",
    "        super().__init__(name)\n",
    "        self.color = color\n",
    "\n",
    "    def speak(self):\n",
    "        return \"Meow!\"\n",
    "\n",
    "    def scratch(self):\n",
    "        return self.name + \" scratches the post.\"\n",
    "\n",
    "    def __str__(self):\n",
    "        return \"Cat: \" + self.name + \", Color: \" + self.color\n",
    "\n",
    "class Bird(Animal):\n",
    "  pass\n",
    "\n",
    "# Polymorphism: A list of Animal objects\n",
    "animals = [\n",
    "    Dog(\"Buddy\", \"Golden Retriever\"),\n",
    "    Cat(\"Whiskers\", \"Tabby\"),\n",
    "    Dog(\"Lucy\", \"Labrador\"),\n",
    "    Cat(\"Shadow\", \"Black\")\n",
    "]\n",
    "\n",
    "for animal in animals:\n",
    "    print(f\"{animal.name} says {animal.speak()}\")\n",
    "    print(animal)\n",
    "\n",
    "# Demonstrate specific methods\n",
    "dog_instance = Dog(\"Max\", \"German Shepherd\")\n",
    "cat_instance = Cat(\"Mittens\", \"White\")\n",
    "\n",
    "print(dog_instance.fetch())\n",
    "print(cat_instance.scratch())\n",
    "\n",
    "print(Bird(\"Nemo\"))"
   ]
  },
  {
   "cell_type": "code",
   "execution_count": null,
   "metadata": {
    "id": "kss-gTrUH7Lo"
   },
   "outputs": [],
   "source": []
  }
 ],
 "metadata": {
  "colab": {
   "authorship_tag": "ABX9TyP/k0mQybOnGpvuev5pErfL",
   "provenance": []
  },
  "kernelspec": {
   "display_name": "Python 3",
   "name": "python3"
  },
  "language_info": {
   "codemirror_mode": {
    "name": "ipython",
    "version": 3
   },
   "file_extension": ".py",
   "mimetype": "text/x-python",
   "name": "python",
   "nbconvert_exporter": "python",
   "pygments_lexer": "ipython3",
   "version": "3.11.3"
  }
 },
 "nbformat": 4,
 "nbformat_minor": 0
}
