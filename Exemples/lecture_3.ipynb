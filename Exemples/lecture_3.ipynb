{
 "cells": [
  {
   "cell_type": "code",
   "execution_count": 12,
   "metadata": {
    "id": "1Gq2rtF9T2p1"
   },
   "outputs": [],
   "source": [
    "import torch\n",
    "import torch.nn as nn # module, basic building blocks for graphs https://docs.pytorch.org/docs/stable/nn.html#module-torch.nn\n",
    "# The torch.nn module is the collection that includes various pre-defined layers, activation functions,\n",
    "# loss functions, and utilities for building and training the Neural Networks.\n",
    "\n",
    "import torch.nn.functional as F # module that works directly on the input data; they perform direct operations like convolution, activation,\n",
    "# The torch.nn.functional includes a functional approach to work on the input data.\n",
    "# It means that the functions of the torch.nn.functional module work directly on the input data, without creating an instance of a neural network layer.\n",
    "\n",
    "# You should use the ‘torch.nn’ when you want to train the layers with learnable parameters.\n",
    "# But if you want to make operations simple, ‘torch.nn.functional’ is suitable as it has stateless operations without any parameters.\n",
    "\n",
    "# If you want to create and train the neural network using the pre-defined layers, torch.nn is suitable.\n",
    "# But if you want to customize some parts of the neural network, you can use the torch.nn.functional within the custom modules.\n",
    "\n",
    "# more info:\n",
    "# https://www.geeksforgeeks.org/deep-learning/differences-between-torch-nn-and-torch-nn-functional/\n",
    "\n",
    "import numpy as np\n",
    "import random\n",
    "import matplotlib.pyplot as plt\n"
   ]
  },
  {
   "cell_type": "code",
   "execution_count": 13,
   "metadata": {
    "id": "lhCIsG5xUmE4"
   },
   "outputs": [],
   "source": [
    "# Define a simple Feedforward Neural Network (FNN) architecture\n",
    "# subclass of nn.Module: Base class for all neural network modules. Your models should also subclass this class.\n",
    "# https://docs.pytorch.org/docs/stable/generated/torch.nn.Module.html#torch.nn.Module\n",
    "class SimpleFNN(nn.Module):\n",
    "    def __init__(self, input_size, hidden_size1, hidden_size2, output_size):\n",
    "        \"\"\"\n",
    "        Initializes a simple FNN with two hidden layers.\n",
    "\n",
    "        Args:\n",
    "            input_size (int): Number of input features.\n",
    "            hidden_size1 (int): Number of neurons in the first hidden layer.\n",
    "            hidden_size2 (int): Number of neurons in the second hidden layer.\n",
    "            output_size (int): Number of output neurons.\n",
    "        \"\"\"\n",
    "        #super(SimpleFNN, self).__init__()\n",
    "        super().__init__()\n",
    "\n",
    "        # https://docs.pytorch.org/docs/stable/generated/torch.nn.Linear.html#torch.nn.Linear\n",
    "        # Applies an affine linear transformation to the incoming data: y = xAT + by.\n",
    "        # Linear initializes randomly the weights and bias.\n",
    "\n",
    "        # to controlling sources of randomness\n",
    "        # https://docs.pytorch.org/docs/stable/notes/randomness.html\n",
    "        torch.manual_seed(0)\n",
    "        torch.use_deterministic_algorithms(True)\n",
    "        random.seed(0)\n",
    "        np.random.seed(0)\n",
    "\n",
    "        # interesting blog about Neural Networks, Manifolds, and Topology:\n",
    "        # http://colah.github.io/posts/2014-03-NN-Manifolds-Topology/\n",
    "        self.input_to_hidden_layer1         = nn.Linear(input_size, hidden_size1)   # Input layer to Hidden layer 1 (A*x+b)\n",
    "        self.hidden_layer1_to_hidden_layer2 = nn.Linear(hidden_size1, hidden_size2) # Hidden layer 1 to Hidden layer 2 (A*x+b)\n",
    "        self.hidden_layer2_to_output        = nn.Linear(hidden_size2, output_size)  # Hidden layer 2 to Output layer (A*x+b)\n",
    "\n",
    "        # details about weights initialization:\n",
    "        # https://medium.com/@whyamit101/how-do-i-initialize-weights-in-pytorch-1dd37078d19b\n",
    "        #torch.nn.init.xavier_uniform_(self.input_to_hidden_layer1.weight)\n",
    "        #torch.nn.init.kaiming_normal_(self.input_to_hidden_layer1.weight, mode='fan_in', nonlinearity='relu')\n",
    "\n",
    "        print(f\"SimpleFNN initialized with:\")\n",
    "        print(f\"  Input features: {input_size}\")\n",
    "        print(f\"  Hidden Layer 1 neurons: {hidden_size1}\")\n",
    "        print(f\"  Hidden Layer 2 neurons: {hidden_size2}\")\n",
    "        print(f\"  Output neurons: {output_size}\")\n",
    "\n",
    "    def forward(self, x):\n",
    "        # Define the computation performed at every call.\n",
    "        # Should be overridden by all subclasses. (as done here)\n",
    "        \"\"\"\n",
    "        Defines the forward pass of the network.\n",
    "\n",
    "        Args:\n",
    "            x (torch.Tensor): The input tensor.\n",
    "\n",
    "        Returns:\n",
    "            torch.Tensor: The output tensor of the network.\n",
    "        \"\"\"\n",
    "\n",
    "        x = F.relu(self.input_to_hidden_layer1(x))          # Activation function for hidden layer 1 (from input)\n",
    "        x = F.relu(self.hidden_layer1_to_hidden_layer2(x))  # Activation function for hidden layer 2 (from hidden layer 1)\n",
    "        #x = F.sigmoid( self.hidden_layer2_to_output(x))                 # Linear activation for output layer (common for regression)\n",
    "        x = self.hidden_layer2_to_output(x)\n",
    "        return x"
   ]
  },
  {
   "cell_type": "code",
   "execution_count": 14,
   "metadata": {
    "colab": {
     "base_uri": "https://localhost:8080/",
     "height": 883
    },
    "executionInfo": {
     "elapsed": 526,
     "status": "ok",
     "timestamp": 1756234096813,
     "user": {
      "displayName": "Thiago Dias dos Santos",
      "userId": "10237835648623158324"
     },
     "user_tz": 180
    },
    "id": "AIFpo91KVHpu",
    "outputId": "90659740-8ab3-497c-faa5-0d8737af3f42"
   },
   "outputs": [
    {
     "name": "stdout",
     "output_type": "stream",
     "text": [
      "--- Defining a Simple FNN Architecture in PyTorch ---\n",
      "--- Instantiating the SimpleFNN model ---\n",
      "SimpleFNN initialized with:\n",
      "  Input features: 2\n",
      "  Hidden Layer 1 neurons: 5\n",
      "  Hidden Layer 2 neurons: 7\n",
      "  Output neurons: 1\n",
      "--- Model Structure:\n",
      "SimpleFNN(\n",
      "  (input_to_hidden_layer1): Linear(in_features=2, out_features=5, bias=True)\n",
      "  (hidden_layer1_to_hidden_layer2): Linear(in_features=5, out_features=7, bias=True)\n",
      "  (hidden_layer2_to_output): Linear(in_features=7, out_features=1, bias=True)\n",
      ")\n",
      "Linear(in_features=2, out_features=5, bias=True)\n",
      "Parameter containing:\n",
      "tensor([[-0.0053,  0.3793],\n",
      "        [-0.5820, -0.5204],\n",
      "        [-0.2723,  0.1896],\n",
      "        [-0.0140,  0.5607],\n",
      "        [-0.0628,  0.1871]], requires_grad=True)\n",
      "Parameter containing:\n",
      "tensor([-0.2137, -0.1390, -0.6755, -0.4683, -0.2915], requires_grad=True)\n",
      "--- Weights visualization:\n"
     ]
    },
    {
     "data": {
      "image/png": "[encoded data removed]",
      "text/plain": [
       "<Figure size 640x480 with 1 Axes>"
      ]
     },
     "metadata": {},
     "output_type": "display_data"
    }
   ],
   "source": [
    "print(\"--- Defining a Simple FNN Architecture in PyTorch ---\")\n",
    "input_features = 2\n",
    "hidden_neurons1 = 5 # Number of neurons in the first hidden layer\n",
    "hidden_neurons2 = 7 # Number of neurons in the second hidden layer\n",
    "output_values = 1    # Predicting a single value\n",
    "\n",
    "print(\"--- Instantiating the SimpleFNN model ---\")\n",
    "model = SimpleFNN(input_size=input_features,\n",
    "                  hidden_size1=hidden_neurons1,\n",
    "                  hidden_size2=hidden_neurons2,\n",
    "                  output_size=output_values)\n",
    "\n",
    "print(\"--- Model Structure:\")\n",
    "print(model)\n",
    "print(model.input_to_hidden_layer1)\n",
    "print(model.input_to_hidden_layer1.weight)\n",
    "print(model.input_to_hidden_layer1.bias)\n",
    "\n",
    "print(\"--- Weights visualization:\")\n",
    "# Convert weights to a NumPy array\n",
    "weights = model.input_to_hidden_layer1.weight.detach().numpy()\n",
    "\n",
    "# Visualize the weight distribution\n",
    "plt.hist(weights.flatten(), bins=50)\n",
    "plt.title(\"Weight Distribution\")\n",
    "plt.xlabel(\"Weight Value\")\n",
    "plt.ylabel(\"Frequency\")\n",
    "plt.show()"
   ]
  },
  {
   "cell_type": "code",
   "execution_count": 15,
   "metadata": {
    "colab": {
     "base_uri": "https://localhost:8080/"
    },
    "executionInfo": {
     "elapsed": 53,
     "status": "ok",
     "timestamp": 1756234101026,
     "user": {
      "displayName": "Thiago Dias dos Santos",
      "userId": "10237835648623158324"
     },
     "user_tz": 180
    },
    "id": "M4LK8OVjVwKY",
    "outputId": "9d17c91d-092c-479e-9b66-ee90371cff87"
   },
   "outputs": [
    {
     "name": "stdout",
     "output_type": "stream",
     "text": [
      "Dummy input tensor (5 samples, 2 features):\n",
      "tensor([[ 1.5410, -0.2934],\n",
      "        [-2.1788,  0.5684],\n",
      "        [-1.0845, -1.3986],\n",
      "        [ 0.4033,  0.8380],\n",
      "        [-0.7193, -0.4033]])\n",
      "Performing a conceptual forward pass with the untrained model...\n",
      "Output from the untrained model (for the dummy input):\n",
      "tensor([[ 0.0380],\n",
      "        [-0.1040],\n",
      "        [-0.1660],\n",
      "        [ 0.0200],\n",
      "        [-0.0450]])\n"
     ]
    }
   ],
   "source": [
    "# Create a dummy input tensor to test the forward pass\n",
    "# Batch size of n, m input features\n",
    "number_samples = 5\n",
    "torch.manual_seed(0)\n",
    "dummy_input = torch.randn(number_samples, input_features)\n",
    "print(\"Dummy input tensor (\"+str(number_samples)+\" samples, \"+str(input_features)+\" features):\")\n",
    "print(dummy_input)\n",
    "\n",
    "# Perform a forward pass (conceptual, model is not trained yet)\n",
    "print(\"Performing a conceptual forward pass with the untrained model...\")\n",
    "with torch.no_grad(): # We don't need to calculate gradients for this conceptual pass\n",
    "  #dummy_output = model(dummy_input)\n",
    "  dummy_output = model.forward(dummy_input) # dummy_input = x0\n",
    "\n",
    "print(\"Output from the untrained model (for the dummy input):\")\n",
    "print(dummy_output)"
   ]
  },
  {
   "cell_type": "code",
   "execution_count": null,
   "metadata": {
    "id": "iiqCujkEV6jm"
   },
   "outputs": [],
   "source": []
  }
 ],
 "metadata": {
  "colab": {
   "authorship_tag": "ABX9TyP3skZa63EArhZChtMdz8VJ",
   "provenance": []
  },
  "kernelspec": {
   "display_name": "Python 3",
   "name": "python3"
  },
  "language_info": {
   "codemirror_mode": {
    "name": "ipython",
    "version": 3
   },
   "file_extension": ".py",
   "mimetype": "text/x-python",
   "name": "python",
   "nbconvert_exporter": "python",
   "pygments_lexer": "ipython3",
   "version": "3.11.3"
  }
 },
 "nbformat": 4,
 "nbformat_minor": 0
}
