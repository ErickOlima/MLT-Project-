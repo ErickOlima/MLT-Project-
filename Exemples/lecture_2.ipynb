{
 "cells": [
  {
   "cell_type": "code",
   "execution_count": null,
   "metadata": {},
   "outputs": [],
   "source": []
  },
  {
   "cell_type": "markdown",
   "metadata": {
    "id": "8qT9PCMIJd-a"
   },
   "source": [
    "Linear Algebra with PyTorch Tensors"
   ]
  },
  {
   "cell_type": "code",
   "execution_count": 2,
   "metadata": {
    "executionInfo": {
     "elapsed": 8446,
     "status": "ok",
     "timestamp": 1755015801840,
     "user": {
      "displayName": "Thiago Dias dos Santos",
      "userId": "10237835648623158324"
     },
     "user_tz": 180
    },
    "id": "FNY8u4HBJtXD"
   },
   "outputs": [],
   "source": [
    "import torch\n",
    "import matplotlib.pyplot as plt"
   ]
  },
  {
   "cell_type": "markdown",
   "metadata": {
    "id": "hMCoIjeNJll7"
   },
   "source": [
    "Vectors definition and operations (remember: vectors are tensors of dimension 1)"
   ]
  },
  {
   "cell_type": "code",
   "execution_count": 3,
   "metadata": {
    "executionInfo": {
     "elapsed": 15,
     "status": "ok",
     "timestamp": 1755016166390,
     "user": {
      "displayName": "Thiago Dias dos Santos",
      "userId": "10237835648623158324"
     },
     "user_tz": 180
    },
    "id": "xKx49JzrJULk"
   },
   "outputs": [],
   "source": [
    "v1 = torch.tensor([1.0, 2.0, 3.0])\n",
    "v2 = torch.tensor([4.0, 5.0, 6.0])\n",
    "\n",
    "# Vector addition\n",
    "v_sum = v1 + v2\n",
    "#print(v_sum)\n",
    "\n",
    "# Scalar multiplication\n",
    "scalar = 2.0\n",
    "v_scaled = scalar * v1\n",
    "#print(v_scaled)\n",
    "\n",
    "# Dot product\n",
    "dot_product = torch.dot(v1, v2)\n",
    "#print(dot_product)\n",
    "\n",
    "# Outer product\n",
    "outer_product = torch.outer(v1, v2)\n",
    "#print(outer_product)\n",
    "outer_product = torch.outer(v2, v1)\n",
    "#print(outer_product)\n",
    "\n",
    "# Vector multiplication (element-wise or Hadamard product)\n",
    "had_product1 = v1*v2\n",
    "#print(had_product1)\n",
    "\n",
    "# mul: tensor element-wise product operator\n",
    "# https://docs.pytorch.org/docs/stable/generated/torch.mul.html#torch.mul\n",
    "had_product2 = torch.mul(v1,v2) # tensor element-wise product operator (also works with matrices)\n",
    "#print(had_product2)\n",
    "\n",
    "# mul also performs scalar multiplication\n",
    "v_scaled2 = torch.mul(scalar,v1)\n",
    "#print(v_scaled2)\n",
    "\n",
    "# matmul (dot product)\n",
    "#v_matmul = torch.matmul(v1, v2)\n",
    "v_matmul = torch.matmul(v2, v1)\n",
    "#print(v_matmul)\n",
    "# transpose testing\n",
    "#v1_t = torch.transpose(v1,-1,0)\n",
    "#print(v1_t)\n",
    "#print(v1_t + v2)\n"
   ]
  },
  {
   "cell_type": "markdown",
   "metadata": {
    "id": "yl7kuJWBKLUS"
   },
   "source": [
    "Matrices definition and operations (matrices are tensors of dimension 2)"
   ]
  },
  {
   "cell_type": "code",
   "execution_count": 4,
   "metadata": {
    "executionInfo": {
     "elapsed": 37,
     "status": "ok",
     "timestamp": 1755016184022,
     "user": {
      "displayName": "Thiago Dias dos Santos",
      "userId": "10237835648623158324"
     },
     "user_tz": 180
    },
    "id": "dE72hq1IJriD"
   },
   "outputs": [],
   "source": [
    "M1 = torch.tensor([[1.0, 2.0], [3.0, 4.0]])\n",
    "M2 = torch.tensor([[5.0, 6.0], [7.0, 8.0]])\n",
    "\n",
    "# Matrix addition\n",
    "M_sum = M1 + M2\n",
    "#print(M_sum)\n",
    "\n",
    "# Matrix multiplication (element-wise or Hadamard product)\n",
    "M_element_wise_mul1 = M1 * M2\n",
    "M_element_wise_mul2 = torch.mul(M1,M2) # = torch.mul(M2,M1)\n",
    "#print(M_element_wise_mul1)\n",
    "#print(M_element_wise_mul2)\n",
    "\n",
    "# Matrix multiplication (dot product). It also works for vectors (see above)\n",
    "# For M1 (2x2) and M2 (2x2), the result is 2x2\n",
    "# matmul: matrix product of two tensors (more general function)\n",
    "# https://docs.pytorch.org/docs/stable/generated/torch.matmul.html#torch-matmul\n",
    "M_matmul = torch.matmul(M1, M2)\n",
    "#print(M_matmul)\n",
    "M_matmul = torch.matmul(M2, M1)\n",
    "#print(M_matmul)\n",
    "\n",
    "# mm: matrix multiplication of matrices (this function does not broadcast)\n",
    "# https://docs.pytorch.org/docs/stable/generated/torch.mm.html#torch.mm\n",
    "# about broadcast: https://numpy.org/doc/stable/user/basics.broadcasting.html\n",
    "M_matmul = torch.mm(M1, M2)\n",
    "#print(M_matmul)\n",
    "M_matmul = torch.mm(M2, M1)\n",
    "#print(M_matmul)\n",
    "\n",
    "# Matrix-vector multiplication\n",
    "# M1 (2x2) and v1 (reshaped to 2x1 for this example, though PyTorch can broadcast)\n",
    "# Let's define a compatible vector\n",
    "# mv: performs a matrix-vector product (this function does not broadcast)\n",
    "# https://docs.pytorch.org/docs/stable/generated/torch.mv.html#torch.mv\n",
    "v_compatible = torch.tensor([1.0, 2.0]) # 2 elements for a 2x2 matrix\n",
    "Mv_product = torch.mv(M1, v_compatible)\n",
    "#print(v_compatible)\n",
    "#print(Mv_product)\n",
    "\n",
    "# some information: https://medium.com/@benjybo7/6-ways-to-multiply-tensors-in-pytorch-7cd6485ecb7b"
   ]
  },
  {
   "cell_type": "markdown",
   "metadata": {
    "id": "3fHdt_zM2xxF"
   },
   "source": [
    "Simulating neuron computation $A*x+b$. Let's consider two neurons with different weights each"
   ]
  },
  {
   "cell_type": "code",
   "execution_count": 5,
   "metadata": {
    "executionInfo": {
     "elapsed": 7,
     "status": "ok",
     "timestamp": 1755016191395,
     "user": {
      "displayName": "Thiago Dias dos Santos",
      "userId": "10237835648623158324"
     },
     "user_tz": 180
    },
    "id": "v9dzmJHUKSxW"
   },
   "outputs": [],
   "source": [
    "x = torch.tensor([0.5, 1.0, -0.2])      # Inputs (e.g., 3 features for one sample)\n",
    "A = torch.tensor([[0.7, -0.3, 0.1],     # Weights for neuron 1 (from a previous training)\n",
    "                  [0.2,  0.4, -0.5]])   # Weights for neuron 2 (from a previous training)\n",
    "b = torch.tensor([0.1, -0.2])           # Biases for 2 neurons\n",
    "z = torch.mv(A, x) + b # Weighted sum: z = Wx + b\n",
    "#print(z)"
   ]
  },
  {
   "cell_type": "markdown",
   "metadata": {
    "id": "n4CBVfPc3nT9"
   },
   "source": [
    "Now, compute $F(A*x+b)$ element-wise (i.e., each neuron performs its own activate function)"
   ]
  },
  {
   "cell_type": "code",
   "execution_count": 6,
   "metadata": {
    "executionInfo": {
     "elapsed": 9,
     "status": "ok",
     "timestamp": 1755016198916,
     "user": {
      "displayName": "Thiago Dias dos Santos",
      "userId": "10237835648623158324"
     },
     "user_tz": 180
    },
    "id": "cG_cM4Jf3kpE"
   },
   "outputs": [],
   "source": [
    "F_relu=torch.relu(z)\n",
    "F_sigmoid=torch.sigmoid(z)\n",
    "#print(F_relu)\n",
    "#print(F_sigmoid)\n",
    "F_neuron1=torch.relu(z[0])\n",
    "F_neuron2=torch.sigmoid(z[1])\n",
    "#print(F_neuron1)\n",
    "#print(F_neuron2)"
   ]
  },
  {
   "cell_type": "markdown",
   "metadata": {
    "id": "dHzQBOzQXsGh"
   },
   "source": [
    "Plot activation functions to illustrate"
   ]
  },
  {
   "cell_type": "code",
   "execution_count": 7,
   "metadata": {
    "colab": {
     "base_uri": "https://localhost:8080/",
     "height": 449
    },
    "executionInfo": {
     "elapsed": 526,
     "status": "ok",
     "timestamp": 1755016206428,
     "user": {
      "displayName": "Thiago Dias dos Santos",
      "userId": "10237835648623158324"
     },
     "user_tz": 180
    },
    "id": "pIbAI_x64dSc",
    "outputId": "bf46c754-80ab-4939-d05c-653ae61b6800"
   },
   "outputs": [
    {
     "data": {
      "image/png": "[encoded data removed]",
      "text/plain": [
       "<Figure size 640x480 with 1 Axes>"
      ]
     },
     "metadata": {},
     "output_type": "display_data"
    }
   ],
   "source": [
    "x_range=(-5, 5)\n",
    "x = torch.linspace(x_range[0], x_range[1], 100)\n",
    "#print(x)\n",
    "\n",
    "y_sigmoid = torch.sigmoid(x)\n",
    "\n",
    "y_tanh = torch.tanh(x)\n",
    "\n",
    "y_relu = torch.relu(x)\n",
    "#print(y_relu)\n",
    "f_leaky_relu = torch.nn.LeakyReLU(negative_slope=0.1)\n",
    "y_leaky_relu = f_leaky_relu(x)\n",
    "#print(y_leaky_relu)\n",
    "\n",
    "plt.plot(x.numpy(), y_sigmoid.numpy(),label='sigmoid',linewidth=2.5)\n",
    "plt.plot(x.numpy(), y_tanh.numpy(),label='tanh',linewidth=2.5)\n",
    "plt.plot(x.numpy(), y_relu.numpy(),label='relu',linewidth=2.5,color='C6')\n",
    "plt.plot(x.numpy(), y_leaky_relu.numpy(),label='leaky relu',linewidth=2.5,linestyle='--')\n",
    "plt.xlabel(\"Input (z)\")\n",
    "plt.ylabel(\"Output (f(z))\")\n",
    "plt.grid(True)\n",
    "plt.legend(fontsize=\"12\")\n",
    "plt.show()"
   ]
  },
  {
   "cell_type": "code",
   "execution_count": 8,
   "metadata": {
    "colab": {
     "base_uri": "https://localhost:8080/"
    },
    "executionInfo": {
     "elapsed": 51,
     "status": "ok",
     "timestamp": 1755016212770,
     "user": {
      "displayName": "Thiago Dias dos Santos",
      "userId": "10237835648623158324"
     },
     "user_tz": 180
    },
    "id": "F-UEbAnSYJNJ",
    "outputId": "de36b26c-c2b7-42c7-d4ab-836fd485ad4f"
   },
   "outputs": [
    {
     "name": "stdout",
     "output_type": "stream",
     "text": [
      "a = \n",
      "tensor(1)\n",
      "dim(a) = 0\n",
      "shape(a) =torch.Size([])\n",
      "type(a) = <class 'torch.Tensor'>\n",
      "dtype(a) = torch.int64\n"
     ]
    },
    {
     "data": {
      "text/plain": [
       "1"
      ]
     },
     "execution_count": 8,
     "metadata": {},
     "output_type": "execute_result"
    }
   ],
   "source": [
    "a=torch.tensor(1)\n",
    "#a=torch.tensor([1])\n",
    "#a=torch.tensor([[1.]])\n",
    "print(\"a = \")\n",
    "print(a)\n",
    "print(\"dim(a) = \"+str(a.dim()))\n",
    "print(\"shape(a) =\"+str(a.shape))\n",
    "print(\"type(a) = \"+str(type(a))) # returns the class\n",
    "print(\"dtype(a) = \"+str(a.dtype)) # returns the data type (float32, float64, etc)\n",
    "a.item()"
   ]
  },
  {
   "cell_type": "code",
   "execution_count": 9,
   "metadata": {
    "colab": {
     "base_uri": "https://localhost:8080/"
    },
    "executionInfo": {
     "elapsed": 8,
     "status": "ok",
     "timestamp": 1754933299702,
     "user": {
      "displayName": "Thiago Dias dos Santos",
      "userId": "10237835648623158324"
     },
     "user_tz": 180
    },
    "id": "Ph1YqWngGYjV",
    "outputId": "d390bcee-a939-45e9-99cc-129b6044432e"
   },
   "outputs": [
    {
     "name": "stdout",
     "output_type": "stream",
     "text": [
      "a = \n",
      "tensor([[ 1, -1],\n",
      "        [ 1, -1]])\n",
      "dim(a) = 2\n",
      "shape(a) =torch.Size([2, 2])\n",
      "type(a) = <class 'torch.Tensor'>\n",
      "dtype(a) = torch.int64\n"
     ]
    }
   ],
   "source": [
    "a=torch.tensor([[1,-1],[1,-1]])\n",
    "print(\"a = \")\n",
    "print(a)\n",
    "print(\"dim(a) = \"+str(a.dim()))\n",
    "print(\"shape(a) =\"+str(a.shape))\n",
    "print(\"type(a) = \"+str(type(a)))\n",
    "print(\"dtype(a) = \"+str(a.dtype))"
   ]
  },
  {
   "cell_type": "code",
   "execution_count": 10,
   "metadata": {
    "colab": {
     "base_uri": "https://localhost:8080/"
    },
    "executionInfo": {
     "elapsed": 11,
     "status": "ok",
     "timestamp": 1754933325558,
     "user": {
      "displayName": "Thiago Dias dos Santos",
      "userId": "10237835648623158324"
     },
     "user_tz": 180
    },
    "id": "v1Qu8UcTH5Og",
    "outputId": "8a6636d3-f238-4ea3-fd88-3486360dd111"
   },
   "outputs": [
    {
     "name": "stdout",
     "output_type": "stream",
     "text": [
      "a = \n",
      "tensor([[0, 0, 0, 0],\n",
      "        [0, 0, 0, 0]], dtype=torch.int32)\n",
      "dim(a) = 2\n",
      "shape(a) =torch.Size([2, 4])\n",
      "type(a) = <class 'torch.Tensor'>\n",
      "dtype(a) = torch.int32\n"
     ]
    }
   ],
   "source": [
    "a=torch.zeros([2,4],dtype=torch.int32)\n",
    "#a=torch.zeros([2,4,3],dtype=torch.int32) # dimension?\n",
    "print(\"a = \")\n",
    "print(a)\n",
    "print(\"dim(a) = \"+str(a.dim()))\n",
    "print(\"shape(a) =\"+str(a.shape))\n",
    "print(\"type(a) = \"+str(type(a)))\n",
    "print(\"dtype(a) = \"+str(a.dtype))"
   ]
  },
  {
   "cell_type": "code",
   "execution_count": 11,
   "metadata": {
    "colab": {
     "base_uri": "https://localhost:8080/"
    },
    "executionInfo": {
     "elapsed": 14,
     "status": "ok",
     "timestamp": 1754933474048,
     "user": {
      "displayName": "Thiago Dias dos Santos",
      "userId": "10237835648623158324"
     },
     "user_tz": 180
    },
    "id": "jug5AcrcJQmp",
    "outputId": "19655422-5044-46b8-d78a-ab3d4df8ae26"
   },
   "outputs": [
    {
     "name": "stdout",
     "output_type": "stream",
     "text": [
      "a = \n",
      "tensor([[0.8171, 0.3954, 0.2965],\n",
      "        [0.0071, 0.7982, 0.1847]])\n",
      "dim(a) = 2\n",
      "shape(a) =torch.Size([2, 3])\n",
      "type(a) = <class 'torch.Tensor'>\n",
      "dtype(a) = torch.float32\n"
     ]
    }
   ],
   "source": [
    "#a=torch.ones(2,3)\n",
    "a=torch.rand(2,3) #random numbers (0-1)\n",
    "print(\"a = \")\n",
    "print(a)\n",
    "print(\"dim(a) = \"+str(a.dim()))\n",
    "print(\"shape(a) =\"+str(a.shape))\n",
    "print(\"type(a) = \"+str(type(a)))\n",
    "print(\"dtype(a) = \"+str(a.dtype))"
   ]
  },
  {
   "cell_type": "code",
   "execution_count": null,
   "metadata": {
    "id": "1g-qnFrrLnYD"
   },
   "outputs": [],
   "source": []
  }
 ],
 "metadata": {
  "colab": {
   "authorship_tag": "ABX9TyOlNOkyEoIJhH8Dl2U8CUNf",
   "provenance": []
  },
  "kernelspec": {
   "display_name": "Python 3",
   "name": "python3"
  },
  "language_info": {
   "codemirror_mode": {
    "name": "ipython",
    "version": 3
   },
   "file_extension": ".py",
   "mimetype": "text/x-python",
   "name": "python",
   "nbconvert_exporter": "python",
   "pygments_lexer": "ipython3",
   "version": "3.11.3"
  }
 },
 "nbformat": 4,
 "nbformat_minor": 0
}
