{
 "cells": [
  {
   "cell_type": "code",
   "execution_count": 20,
   "id": "0cc143a8",
   "metadata": {},
   "outputs": [
    {
     "name": "stdout",
     "output_type": "stream",
     "text": [
      " ---- importando dependências ---- \n"
     ]
    }
   ],
   "source": [
    "print(\" ---- importando dependências ---- \")\n",
    "import torch as t\n",
    "import random\n",
    "import numpy as np\n",
    "import matplotlib.pyplot as plt\n",
    "import json\n",
    "import tqdm\n",
    "import Rede_neural as rn\n",
    "import time as tm\n",
    "import Treinamenro_de_rede as tr\n",
    "import sys"
   ]
  },
  {
   "cell_type": "code",
   "execution_count": 25,
   "id": "ed6f6faf",
   "metadata": {},
   "outputs": [
    {
     "name": "stdout",
     "output_type": "stream",
     "text": [
      " ---- definido parâmetros ---- \n"
     ]
    }
   ],
   "source": [
    "print(\" ---- definido parâmetros ---- \")\n",
    "#Pasta para salvar os reseultados\n",
    "origin_path = \"Ex2_graphs\"\n",
    "\n",
    "#dicionário com os erros de diversas situações\n",
    "dict_erros = {}\n",
    "\n",
    "#função\n",
    "func = lambda x_1,x_2: 3*(1-x_1)**2*np.exp(-x_1**2 - (x_2 + 1)**2) - 10*(x_1/5 - x_1**3 - x_2**5)*np.exp(-x_1**2 - x_2**2) - 1/3*np.exp(-(x_1 + 1)**2 - x_2**2)\n",
    "#amostras \n",
    "number_samples = 20\n",
    "xa, xb = -4, 4\n",
    "t.manual_seed(0)\n",
    "\n",
    "input_size = 2\n",
    "output_size = 1\n",
    "\n",
    "x_train = xa + (xb-xa) * t.rand(number_samples, input_size)\n",
    "x_val = xa + (xb-xa) * t.rand(number_samples, input_size)\n",
    "\n",
    "y_train = func(x_train[:,0], x_train[:,1])\n",
    "y_val = func(x_val[:,0], x_val[:,1])\n",
    "\n",
    "# neuronios e funções de  ativação a testar\n",
    "activation_func_list = (\"ReLU\", \"sigmoid\", \"tanh\")\n",
    "neuronios_list = (5, 15,30)"
   ]
  },
  {
   "cell_type": "code",
   "execution_count": 31,
   "id": "e93fdd01",
   "metadata": {},
   "outputs": [
    {
     "name": "stdout",
     "output_type": "stream",
     "text": [
      "MELHOR CONFIGURAÇÃO ENCONTRADA:\n",
      "Função de ativação: ReLU;\n",
      "Número de camadas: 3;\n",
      "Número de neurônios por camada: 30,5,15;\n",
      "Erro encontrado: 1.1487864255905151\n",
      "\n",
      "\n",
      "MELHOR CONFIGURAÇÃO ENCONTRADA:\n",
      "Função de ativação: sigmoid;\n",
      "Número de camadas: 3;\n",
      "Número de neurônios por camada: 5,15,5;\n",
      "Erro encontrado: 1.3623082637786865\n",
      "\n",
      "\n",
      "MELHOR CONFIGURAÇÃO ENCONTRADA:\n",
      "Função de ativação: tanh;\n",
      "Número de camadas: 3;\n",
      "Número de neurônios por camada: 30,15,5;\n",
      "Erro encontrado: 1.2157135009765625\n",
      "\n",
      "\n"
     ]
    }
   ],
   "source": [
    "import os\n",
    "\n",
    "# Ensure all necessary subdirectories exist\n",
    "os.makedirs(origin_path, exist_ok=True)\n",
    "os.makedirs(os.path.join(\"Work\", origin_path), exist_ok=True)\n",
    "\n",
    "for activation_func in activation_func_list:\n",
    "        dict_erros[activation_func] = {}\n",
    "        begin = tm.time()\n",
    "                        \n",
    "        # 3 hidden layers the best configuration found in Ex2\n",
    "        for neuronios_1 in neuronios_list:\n",
    "            for neuronios_2 in neuronios_list:\n",
    "                for neuronios_3 in neuronios_list:\n",
    "                    if activation_func == \"ReLU\" and (neuronios_1, neuronios_2, neuronios_3) == (30,5,15):    \n",
    "                        loss_val_min = tr.processamento_agrupado_2d(rn.neural_net_interno_3_hidden, [neuronios_1, neuronios_2, neuronios_3], activation_func, x_train, y_train, x_val, y_val, func, xa, xb, origin_path)\n",
    "                        dict_erros[activation_func][f\"{neuronios_1},{neuronios_2},{neuronios_3}\"] = loss_val_min \n",
    "\n",
    "                    elif activation_func == \"sigmoid\" and (neuronios_1, neuronios_2, neuronios_3) == (5,15,5):    \n",
    "                        loss_val_min = tr.processamento_agrupado_2d(rn.neural_net_interno_3_hidden, [neuronios_1, neuronios_2, neuronios_3], activation_func, x_train, y_train, x_val, y_val, func, xa, xb, origin_path)\n",
    "                        dict_erros[activation_func][f\"{neuronios_1},{neuronios_2},{neuronios_3}\"] = loss_val_min \n",
    "                    \n",
    "                    elif activation_func == \"tanh\" and (neuronios_1, neuronios_2, neuronios_3) == (30,15,5):    \n",
    "                        loss_val_min = tr.processamento_agrupado_2d(rn.neural_net_interno_3_hidden, [neuronios_1, neuronios_2, neuronios_3], activation_func, x_train, y_train, x_val, y_val, func, xa, xb, origin_path)\n",
    "                        dict_erros[activation_func][f\"{neuronios_1},{neuronios_2},{neuronios_3}\"] = loss_val_min \n",
    "                    \n",
    "                    \n",
    "                    \n",
    "                    \n",
    "                \n",
    "        for erros in dict_erros[activation_func].items():\n",
    "            if erros[1] == min(dict_erros[activation_func].values()):\n",
    "                print(\n",
    "                    f\"MELHOR CONFIGURAÇÃO ENCONTRADA:\\n\"\n",
    "                    f\"Função de ativação: {activation_func};\\n\"\n",
    "                    f\"Número de camadas: {len(erros[0].split(','))};\\n\"\n",
    "                    f\"Número de neurônios por camada: {erros[0]};\\n\"\n",
    "                    f\"Erro encontrado: {erros[1]}\\n\\n\"\n",
    "                )\n",
    "\n",
    "        #print(f\"Tempo para função de ativação {activation_func}: {tm.time()-begin:.2f} segundos\")\n"
   ]
  }
 ],
 "metadata": {
  "kernelspec": {
   "display_name": "Python 3",
   "language": "python",
   "name": "python3"
  },
  "language_info": {
   "codemirror_mode": {
    "name": "ipython",
    "version": 3
   },
   "file_extension": ".py",
   "mimetype": "text/x-python",
   "name": "python",
   "nbconvert_exporter": "python",
   "pygments_lexer": "ipython3",
   "version": "3.11.3"
  }
 },
 "nbformat": 4,
 "nbformat_minor": 5
}
